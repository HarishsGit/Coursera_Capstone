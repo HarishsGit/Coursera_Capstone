{
    "cells": [
        {
            "cell_type": "markdown",
            "metadata": {
                "collapsed": true
            },
            "source": "# The Battle of Neighborhoods - Week1"
        },
        {
            "cell_type": "markdown",
            "metadata": {},
            "source": "## Introduction and Business Problem"
        },
        {
            "cell_type": "markdown",
            "metadata": {},
            "source": "Toronto has many people and number of restaurant in each of the neighborhoods. The business problem here we are going to solve is find a better neighborhood to establish a restaurant with high revenue that keeps the restaurant always busy and happeneing. This project will help in finding the better place to establish a restaurant in neighborhood of Toronto."
        },
        {
            "cell_type": "markdown",
            "metadata": {},
            "source": "## Data  Requirement and Solution"
        },
        {
            "cell_type": "markdown",
            "metadata": {},
            "source": "The approach for solving the probelm is by finding a neighborhood which has less number of restaurants and has high number in population in that particular neighborhood. To solve this problem the data we are going to use the Toronto City data with the help of FourSquare API. \n\nwe will scrape the data from Wiki page and use the postal code, Neighborhood to locate latitude & longitude with help of FourSquare\nLink: https://en.wikipedia.org/wiki/List_of_postal_codes_of_Canada:_M\n\n**FourSquare API:**\nThe project will be totally based on the FourSquare Location data, which it gives the relevant information needed to solve this problem. \n\n**Approach to solve this problem:**\nWe will scape the data from wiki page to get all the neighborhoods of Toronto and with help of FourSquare API we'll locate the data on the map and based on population and restaurant count in the neighborhood will provide the best place to establish a restaurant."
        }
    ],
    "metadata": {
        "kernelspec": {
            "display_name": "Python 3.7",
            "language": "python",
            "name": "python3"
        },
        "language_info": {
            "codemirror_mode": {
                "name": "ipython",
                "version": 3
            },
            "file_extension": ".py",
            "mimetype": "text/x-python",
            "name": "python",
            "nbconvert_exporter": "python",
            "pygments_lexer": "ipython3",
            "version": "3.7.10"
        }
    },
    "nbformat": 4,
    "nbformat_minor": 1
}